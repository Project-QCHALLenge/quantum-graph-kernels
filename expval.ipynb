{
 "cells": [
  {
   "cell_type": "code",
   "execution_count": 79,
   "metadata": {},
   "outputs": [],
   "source": [
    "#imports\n",
    "import pennylane as qml\n",
    "from pennylane import numpy as np\n",
    "import networkx as nx"
   ]
  },
  {
   "cell_type": "code",
   "execution_count": 80,
   "metadata": {},
   "outputs": [],
   "source": [
    "n_nodes = 9\n",
    "\n",
    "# graphs for training\n",
    "graph_0 = [(0, 7), (1, 5), (1, 6), (1, 7), (2, 4), (2, 6), (2, 7), (3, 4), (3, 5), (3, 6), (4, 7), (5, 6), (5, 7), (6, 7), (6, 8), (7, 8)]\n",
    "graph_1 = [(0, 4), (1, 4), (1, 5), (1, 7), (2, 3), (2, 4), (2, 5), (2, 6), (2, 7), (2, 8), (3, 4), (3, 5), (4, 5), (4, 6), (4, 8), (5, 7)]\n",
    "\n",
    "## grid graph\n",
    "#graph_0 = nx.Graph([(0, 1), (0, 3), (1, 2), (1, 4), (2, 5), (3, 4), (3, 6), (4, 5), (4, 7), (5, 8), (6, 7), (7, 8)])\n",
    "#graph_1 = nx.Graph([(0, 2), (0, 7), (1, 5), (1, 6), (1, 8), (2, 5), (2, 8), (3, 4), (3, 7), (4, 6), (4, 8), (7, 8)])\n",
    "## cycle graph\n",
    "#graph_0 = nx.Graph([(0, 1), (0, 8), (1, 2), (2, 3), (3, 4), (4, 5), (5, 6), (6, 7), (7, 8)])\n",
    "#graph_1 = nx.Graph([(0, 4), (0, 5), (1, 7), (1, 8), (2, 4), (2, 6), (3, 5), (3, 8), (6, 7)])"
   ]
  },
  {
   "cell_type": "code",
   "execution_count": 81,
   "metadata": {},
   "outputs": [],
   "source": [
    "# translate graphs into vectors \n",
    "g = nx.from_edgelist(graph_0)\n",
    "degree_centrality = nx.degree_centrality(g)\n",
    "feature_vec_1 = []\n",
    "\n",
    "for i in range(n_nodes):\n",
    "    feature_vec_1.append(degree_centrality.get(i))\n",
    "\n",
    "h = nx.from_edgelist(graph_1)\n",
    "degree_centrality = nx.degree_centrality(h)\n",
    "feature_vec_2 = []\n",
    "\n",
    "for i in range(n_nodes):\n",
    "    feature_vec_2.append(degree_centrality.get(i))"
   ]
  },
  {
   "cell_type": "code",
   "execution_count": 82,
   "metadata": {},
   "outputs": [],
   "source": [
    "# variational layer\n",
    "def layer(qubits, weights):\n",
    "    for j in range(qubits):\n",
    "        qml.RY(weights[0][j], wires=j)\n",
    "        qml.RZ(weights[1][j], wires=j)\n",
    "    for k in range(qubits):\n",
    "        qml.CZ(wires=[k, (k+1) % qubits])\n",
    "\n",
    "# inverse variational layer\n",
    "def inverse_layer(qubits, weights):\n",
    "    for i in range(qubits):\n",
    "        qml.CZ(wires= [qubits-(i+1), (qubits-i) % qubits])\n",
    "    for j in range(qubits):\n",
    "        qml.RZ(weights[1][j], wires=j)\n",
    "        qml.RY(weights[0][j], wires=j)"
   ]
  },
  {
   "cell_type": "code",
   "execution_count": 83,
   "metadata": {},
   "outputs": [],
   "source": [
    "wires = range(n_nodes)\n",
    "dev = qml.device('default.qubit', n_nodes)\n",
    "\n",
    "# list circuit\n",
    "@qml.qnode(dev, interface='auto')\n",
    "def circuit(weights, feature_vec):\n",
    "    val = feature_vec\n",
    "    qml.AngleEmbedding(val, wires)\n",
    "    for i in range(int(np.sqrt(n_nodes))):\n",
    "        layer(n_nodes, weights[i:i+2])\n",
    "    #return qml.state()\n",
    "    #return qml.probs(wires)\n",
    "    #return [qml.expval(qml.PauliZ(w)) for w in wires]\n",
    "    return qml.expval(qml.PauliZ(wires=[0]))\n",
    "\n",
    "@qml.qnode(dev)\n",
    "def inverse_circuit(weights, feature_vec1, feature_vec2):\n",
    "    val1 = feature_vec1\n",
    "    val2 = feature_vec2\n",
    "    qml.AngleEmbedding(val1, wires)\n",
    "    for i in range(int(np.sqrt(n_nodes))):\n",
    "        layer(n_nodes, weights[i:i+2])\n",
    "    inverse_weights = weights[::-1]\n",
    "    for i in range(int(np.sqrt(n_nodes))):\n",
    "        inverse_layer(n_nodes, inverse_weights[i:i+2])\n",
    "    qml.AngleEmbedding(val2, wires)\n",
    "    return qml.state()\n",
    "    #return qml.expval(qml.PauliZ(wires=[0])), qml.expval(qml.PauliZ(wires=[1]))"
   ]
  },
  {
   "cell_type": "code",
   "execution_count": 84,
   "metadata": {},
   "outputs": [
    {
     "data": {
      "text/plain": [
       "0.9844562108553228"
      ]
     },
     "execution_count": 84,
     "metadata": {},
     "output_type": "execute_result"
    }
   ],
   "source": [
    "# list architecture\n",
    "weights = np.repeat(np.pi, 2*int(np.sqrt(n_nodes))*n_nodes)\n",
    "weights = np.reshape(weights, (2*int(np.sqrt(n_nodes)), n_nodes))\n",
    "\n",
    "a = circuit(weights, feature_vec_1)\n",
    "b = circuit(weights, feature_vec_2)\n",
    "\n",
    "## dot product equals 1 if equal vectors, dot product equals 0 if orthogonal vectors\n",
    "fidelity = np.dot(a,b)\n",
    "fidelity\n",
    "#print(qml.draw(circuit, expansion_strategy=\"device\")(weights, feature_vec_2))\n",
    "#print(qml.draw(inverse_circuit, expansion_strategy=\"device\")(weights, feature_vec_1, feature_vec_2))"
   ]
  },
  {
   "cell_type": "code",
   "execution_count": 85,
   "metadata": {},
   "outputs": [],
   "source": [
    "def costs(weights):\n",
    "    fidelity = np.dot(circuit(weights, feature_vec_1), circuit(weights, feature_vec_2))\n",
    "    return 1- fidelity"
   ]
  },
  {
   "cell_type": "code",
   "execution_count": 86,
   "metadata": {},
   "outputs": [
    {
     "name": "stdout",
     "output_type": "stream",
     "text": [
      "Step = 0,  Cost function = 0.991929\n",
      "Step = 10,  Cost function = 0.992115\n",
      "Step = 20,  Cost function = 0.992168\n",
      "Step = 30,  Cost function = 0.992183\n",
      "Step = 40,  Cost function = 0.992188\n",
      "Step = 50,  Cost function = 0.992190\n",
      "Step = 60,  Cost function = 0.992190\n",
      "Step = 70,  Cost function = 0.992191\n",
      "Step = 80,  Cost function = 0.992191\n",
      "Step = 90,  Cost function = 0.992192\n"
     ]
    }
   ],
   "source": [
    "np.random.seed(0)\n",
    "weights_init = 0.01 * np.random.randn(2*int(np.sqrt(n_nodes)), n_nodes, requires_grad=True)\n",
    "angle = [weights_init]\n",
    "\n",
    "cost = [1 - np.dot(circuit(weights_init, feature_vec_1), circuit(weights_init, feature_vec_2))]\n",
    "opt = qml.GradientDescentOptimizer()\n",
    "max_iterations = 100\n",
    "conv_tol = 1e-06\n",
    "\n",
    "### circuit results in tensor array size 2^9, but only need value at position 0 \n",
    "for n in range(max_iterations):\n",
    "    weights_init, prev_cost = opt.step_and_cost(costs, weights_init)\n",
    "    cost.append(circuit(weights_init, feature_vec_1))\n",
    "    angle.append(weights_init)\n",
    "\n",
    "    conv = np.abs(cost[-1] - prev_cost)\n",
    "    if n % 10 == 0:\n",
    "        print(f\"Step = {n},  Cost function = {cost[-1]:8f}\")\n",
    "    # if conv <= conv_tol:\n",
    "    #     break\n"
   ]
  },
  {
   "cell_type": "code",
   "execution_count": 87,
   "metadata": {},
   "outputs": [],
   "source": [
    "def sandwich_layer(qubits, weights):\n",
    "    for j in range(int(qubits)):\n",
    "        qml.RY(weights[0][j], wires=j)\n",
    "        qml.RZ(weights[1][j], wires=j)\n",
    "    for k in range(qubits):\n",
    "        qml.CZ(wires=[k, (k+1) % qubits])\n",
    "\n",
    "def inverse_sandwich_layer(qubits, weights):\n",
    "    for i in range(qubits):\n",
    "        qml.CZ(wires= [qubits-(i+1), (qubits-i) % qubits])\n",
    "    for j in range(qubits):\n",
    "        qml.RZ(weights[1][j], wires=j)\n",
    "        qml.RY(weights[0][j], wires=j)"
   ]
  },
  {
   "cell_type": "code",
   "execution_count": 88,
   "metadata": {},
   "outputs": [],
   "source": [
    "## sandwich architecture circuit\n",
    "wires = range(int(np.sqrt(n_nodes)))\n",
    "dev = qml.device('default.qubit', wires)\n",
    "\n",
    "@qml.qnode(dev)\n",
    "def sandwich_circuit(weights, val):\n",
    "    qubits = int(np.sqrt(n_nodes))\n",
    "    for i in range(qubits):\n",
    "        qml.AngleEmbedding(val[i*qubits:(i*qubits)+qubits], wires)\n",
    "        sandwich_layer(qubits, weights[i:i+2])\n",
    "\n",
    "    #return qml.state()\n",
    "    return qml.expval(qml.PauliZ(wires=[0]))\n",
    "\n",
    "@qml.qnode(dev)\n",
    "def inverse_sandwich_circuit(weights, feature_vec1, feature_vec2):\n",
    "    val1 = feature_vec1\n",
    "    val2 = feature_vec2\n",
    "    \n",
    "    qubits = int(np.sqrt(n_nodes))\n",
    "    \n",
    "    for i in range(qubits):\n",
    "        qml.AngleEmbedding(val1[i*qubits:(i*qubits)+qubits], wires)\n",
    "        sandwich_layer(qubits, weights[i:i+2])\n",
    "    inverse_weights = weights[::-1]\n",
    "    for i in range(qubits):\n",
    "        inverse_sandwich_layer(qubits, inverse_weights[i:i+2])\n",
    "        qml.AngleEmbedding(val2[(qubits-i-1)*qubits:((qubits-i-1)*qubits)+qubits], wires)\n",
    "\n",
    "    return qml.state()\n",
    "    #return qml.expval(qml.PauliZ(wires=[0])), qml.expval(qml.PauliZ(wires=[1]))\n",
    "\n"
   ]
  },
  {
   "cell_type": "code",
   "execution_count": 89,
   "metadata": {},
   "outputs": [
    {
     "name": "stdout",
     "output_type": "stream",
     "text": [
      "0: ──RX(0.12)──RY(3.14)──RZ(3.14)─╭●────╭Z──RX(0.38)──RY(3.14)──RZ(3.14)─╭●────╭Z──RX(0.75)\n",
      "1: ──RX(0.38)──RY(3.14)──RZ(3.14)─╰Z─╭●─│───RX(0.38)──RY(3.14)──RZ(3.14)─╰Z─╭●─│───RX(0.88)\n",
      "2: ──RX(0.38)──RY(3.14)──RZ(3.14)────╰Z─╰●──RX(0.50)──RY(3.14)──RZ(3.14)────╰Z─╰●──RX(0.25)\n",
      "\n",
      "───RY(3.14)──RZ(3.14)─╭●────╭Z─╭Z────╭●─────────RZ(3.14)──RY(3.14)──RX(0.25)─╭Z────╭●───────\n",
      "───RY(3.14)──RZ(3.14)─╰Z─╭●─│──│──╭●─╰Z─────────RZ(3.14)──RY(3.14)──RX(0.38)─│──╭●─╰Z───────\n",
      "───RY(3.14)──RZ(3.14)────╰Z─╰●─╰●─╰Z──RZ(3.14)──RY(3.14)──RX(0.25)───────────╰●─╰Z──RZ(3.14)\n",
      "\n",
      "───RZ(3.14)──RY(3.14)──RX(0.38)─╭Z────╭●─────────RZ(3.14)──RY(3.14)──RX(0.12)─┤  State\n",
      "───RZ(3.14)──RY(3.14)──RX(0.88)─│──╭●─╰Z─────────RZ(3.14)──RY(3.14)──RX(0.38)─┤  State\n",
      "───RY(3.14)──RX(0.62)───────────╰●─╰Z──RZ(3.14)──RY(3.14)──RX(0.75)───────────┤  State\n"
     ]
    }
   ],
   "source": [
    "print(qml.draw(inverse_sandwich_circuit, expansion_strategy='device')(weights, feature_vec_1, feature_vec_2))"
   ]
  },
  {
   "cell_type": "code",
   "execution_count": 90,
   "metadata": {},
   "outputs": [
    {
     "name": "stdout",
     "output_type": "stream",
     "text": [
      "0: ──RX(0.12)──RY(3.14)──RZ(3.14)─╭●────╭Z──RX(0.38)──RY(3.14)──RZ(3.14)─╭●────╭Z──RX(0.75)\n",
      "1: ──RX(0.38)──RY(3.14)──RZ(3.14)─╰Z─╭●─│───RX(0.38)──RY(3.14)──RZ(3.14)─╰Z─╭●─│───RX(0.88)\n",
      "2: ──RX(0.38)──RY(3.14)──RZ(3.14)────╰Z─╰●──RX(0.50)──RY(3.14)──RZ(3.14)────╰Z─╰●──RX(0.25)\n",
      "\n",
      "───RY(3.14)──RZ(3.14)─╭●────╭Z─╭Z────╭●─────────RZ(3.14)──RY(3.14)──RX(0.25)─╭Z────╭●───────\n",
      "───RY(3.14)──RZ(3.14)─╰Z─╭●─│──│──╭●─╰Z─────────RZ(3.14)──RY(3.14)──RX(0.38)─│──╭●─╰Z───────\n",
      "───RY(3.14)──RZ(3.14)────╰Z─╰●─╰●─╰Z──RZ(3.14)──RY(3.14)──RX(0.25)───────────╰●─╰Z──RZ(3.14)\n",
      "\n",
      "───RZ(3.14)──RY(3.14)──RX(0.38)─╭Z────╭●─────────RZ(3.14)──RY(3.14)──RX(0.12)─┤  State\n",
      "───RZ(3.14)──RY(3.14)──RX(0.88)─│──╭●─╰Z─────────RZ(3.14)──RY(3.14)──RX(0.38)─┤  State\n",
      "───RY(3.14)──RX(0.62)───────────╰●─╰Z──RZ(3.14)──RY(3.14)──RX(0.75)───────────┤  State\n"
     ]
    }
   ],
   "source": [
    "# sandwich architecture\n",
    "weights = np.repeat(np.pi, 18)\n",
    "weights = np.reshape(weights, (6, 3))\n",
    "\n",
    "a = sandwich_circuit(weights, feature_vec_1)\n",
    "b = sandwich_circuit(weights, feature_vec_2)\n",
    "\n",
    "## dot product equals 1 if equal vectors, dot product equals 0 if orthogonal vectors\n",
    "fidelity = np.dot(a,b)\n",
    "#print(qml.draw(sandwich_circuit, expansion_strategy=\"device\")(weights, feature_vec_1))\n",
    "print(qml.draw(inverse_sandwich_circuit, expansion_strategy='device')(weights, feature_vec_1, feature_vec_2))"
   ]
  },
  {
   "cell_type": "code",
   "execution_count": 91,
   "metadata": {},
   "outputs": [],
   "source": [
    "def sandwich_costs(weights):\n",
    "    fidelity = np.dot(sandwich_circuit(weights, feature_vec_1), sandwich_circuit(weights, feature_vec_2))\n",
    "    return np.array(1- fidelity)"
   ]
  },
  {
   "cell_type": "code",
   "execution_count": 92,
   "metadata": {},
   "outputs": [
    {
     "name": "stdout",
     "output_type": "stream",
     "text": [
      "Step = 0,  Cost function = 0.47873248 \n",
      "Step = 10,  Cost function = 0.47881301 \n",
      "Step = 20,  Cost function = 0.47887575 \n",
      "Step = 30,  Cost function = 0.47892518 \n",
      "Step = 40,  Cost function = 0.47896471 \n",
      "Step = 50,  Cost function = 0.47899692 \n",
      "Step = 60,  Cost function = 0.47902377 \n",
      "Step = 70,  Cost function = 0.47904677 \n",
      "Step = 80,  Cost function = 0.47906707 \n",
      "Step = 90,  Cost function = 0.47908554 \n"
     ]
    }
   ],
   "source": [
    "np.random.seed(0)\n",
    "weights_init = 0.01 * np.random.randn(2*int(np.sqrt(n_nodes)), int(np.sqrt(n_nodes)), requires_grad=True)\n",
    "angle = [weights_init]\n",
    "\n",
    "cost = [1 - np.dot(sandwich_circuit(weights_init, feature_vec_1), sandwich_circuit(weights_init, feature_vec_2))]\n",
    "opt = qml.GradientDescentOptimizer()\n",
    "max_iterations = 100\n",
    "conv_tol = 1e-06\n",
    "\n",
    "### circuit results in tensor array size 2^9, but only need value at position 0 \n",
    "for n in range(max_iterations):\n",
    "    weights_init, prev_cost = opt.step_and_cost(sandwich_costs, weights_init)\n",
    "    cost.append(sandwich_circuit(weights_init, feature_vec_1))\n",
    "    angle.append(weights_init)\n",
    "\n",
    "    conv = np.abs(cost[-1] - prev_cost)\n",
    "    if n % 10 == 0:\n",
    "        print(f\"Step = {n},  Cost function = {cost[-1]:.8f} \")\n",
    "    # if conv <= conv_tol:\n",
    "    #     break"
   ]
  },
  {
   "cell_type": "code",
   "execution_count": 93,
   "metadata": {},
   "outputs": [],
   "source": [
    "### TODO\n",
    "### Optimierung List Circuit --> Fehlerbehebung, ich brauche nur das erste Element\n",
    "### Sandwich Circuit: Optimierung"
   ]
  }
 ],
 "metadata": {
  "kernelspec": {
   "display_name": "Python 3",
   "language": "python",
   "name": "python3"
  },
  "language_info": {
   "codemirror_mode": {
    "name": "ipython",
    "version": 3
   },
   "file_extension": ".py",
   "mimetype": "text/x-python",
   "name": "python",
   "nbconvert_exporter": "python",
   "pygments_lexer": "ipython3",
   "version": "3.10.4"
  }
 },
 "nbformat": 4,
 "nbformat_minor": 2
}
