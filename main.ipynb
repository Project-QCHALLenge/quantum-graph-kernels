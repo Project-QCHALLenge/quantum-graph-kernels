{
 "cells": [
  {
   "cell_type": "code",
   "execution_count": 1,
   "metadata": {},
   "outputs": [],
   "source": [
    "#imports\n",
    "import pennylane as qml\n",
    "from pennylane import numpy as np\n",
    "import networkx as nx"
   ]
  },
  {
   "cell_type": "code",
   "execution_count": 2,
   "metadata": {},
   "outputs": [],
   "source": [
    "n_nodes = 9\n",
    "\n",
    "# graphs for training\n",
    "graph_0 = [(0, 7), (1, 5), (1, 6), (1, 7), (2, 4), (2, 6), (2, 7), (3, 4), (3, 5), (3, 6), (4, 7), (5, 6), (5, 7), (6, 7), (6, 8), (7, 8)]\n",
    "graph_1 = [(0, 4), (1, 4), (1, 5), (1, 7), (2, 3), (2, 4), (2, 5), (2, 6), (2, 7), (2, 8), (3, 4), (3, 5), (4, 5), (4, 6), (4, 8), (5, 7)]\n",
    "\n",
    "## grid graph\n",
    "#graph_0 = [(0, 1), (0, 3), (1, 2), (1, 4), (2, 5), (3, 4), (3, 6), (4, 5), (4, 7), (5, 8), (6, 7), (7, 8)]\n",
    "#graph_1 = [(0, 2), (0, 7), (1, 5), (1, 6), (1, 8), (2, 5), (2, 8), (3, 4), (3, 7), (4, 6), (4, 8), (7, 8)]\n",
    "## cycle graph\n",
    "#graph_0 = [(0, 1), (0, 8), (1, 2), (2, 3), (3, 4), (4, 5), (5, 6), (6, 7), (7, 8)]\n",
    "#graph_1 = [(0, 4), (0, 5), (1, 7), (1, 8), (2, 4), (2, 6), (3, 5), (3, 8), (6, 7)]"
   ]
  },
  {
   "cell_type": "code",
   "execution_count": 3,
   "metadata": {},
   "outputs": [],
   "source": [
    "# translate graphs into vectors \n",
    "g = nx.from_edgelist(graph_0)\n",
    "degree_centrality = nx.degree_centrality(g)\n",
    "feature_vec_1 = []\n",
    "\n",
    "for i in range(n_nodes):\n",
    "    feature_vec_1.append(degree_centrality.get(i))\n",
    "\n",
    "h = nx.from_edgelist(graph_1)\n",
    "degree_centrality = nx.degree_centrality(h)\n",
    "feature_vec_2 = []\n",
    "\n",
    "for i in range(n_nodes):\n",
    "    feature_vec_2.append(degree_centrality.get(i))"
   ]
  },
  {
   "cell_type": "code",
   "execution_count": 4,
   "metadata": {},
   "outputs": [],
   "source": [
    "# variational layer\n",
    "def layer(qubits, weights):\n",
    "    for j in range(qubits):\n",
    "        qml.RY(weights[0][j], wires=j)\n",
    "        qml.RZ(weights[1][j], wires=j)\n",
    "    for k in range(qubits):\n",
    "        qml.CZ(wires=[k, (k+1) % qubits])\n",
    "\n",
    "# inverse variational layer\n",
    "def inverse_layer(qubits, weights):\n",
    "    for i in range(qubits):\n",
    "        qml.CZ(wires= [qubits-(i+1), (qubits-i) % qubits])\n",
    "    for j in range(qubits):\n",
    "        qml.RZ(weights[1][j], wires=j)\n",
    "        qml.RY(weights[0][j], wires=j)"
   ]
  },
  {
   "cell_type": "code",
   "execution_count": 6,
   "metadata": {},
   "outputs": [],
   "source": [
    "wires = range(n_nodes)\n",
    "dev = qml.device('default.qubit', n_nodes)\n",
    "\n",
    "# list circuit\n",
    "@qml.qnode(dev, diff_method='backprop')\n",
    "def circuit(weights, feature_vec):\n",
    "    val = feature_vec\n",
    "    qml.AngleEmbedding(val, wires)\n",
    "    for i in range(int(np.sqrt(n_nodes))):\n",
    "        layer(n_nodes, weights[i:i+2])\n",
    "    return qml.state()\n",
    "    #return qml.probs(wires)\n",
    "    #return [qml.expval(qml.PauliZ(w)) for w in wires]\n",
    "    #return qml.expval(qml.PauliZ(wires=[0])), qml.expval(qml.PauliZ(wires=[1]))\n",
    "\n",
    "@qml.qnode(dev)\n",
    "def inverse_circuit(weights, feature_vec1, feature_vec2):\n",
    "    val1 = feature_vec1\n",
    "    val2 = feature_vec2\n",
    "    qml.AngleEmbedding(val1, wires)\n",
    "    for i in range(int(np.sqrt(n_nodes))):\n",
    "        layer(n_nodes, weights[i:i+2])\n",
    "    inverse_weights = weights[::-1]\n",
    "    for i in range(int(np.sqrt(n_nodes))):\n",
    "        inverse_layer(n_nodes, inverse_weights[i:i+2])\n",
    "    qml.AngleEmbedding(val2, wires)\n",
    "    return qml.state()\n",
    "    #return qml.expval(qml.PauliZ(wires=[0])), qml.expval(qml.PauliZ(wires=[1]))"
   ]
  },
  {
   "cell_type": "code",
   "execution_count": 7,
   "metadata": {},
   "outputs": [
    {
     "name": "stdout",
     "output_type": "stream",
     "text": [
      "0: ──RX(0.12)──RY(3.14)──RZ(3.14)─╭●──────────────────────╭Z──RY(3.14)──RZ(3.14)─╭●───────────────\n",
      "1: ──RX(0.38)──RY(3.14)──RZ(3.14)─╰Z─╭●───────────────────│───RY(3.14)──RZ(3.14)─╰Z─╭●────────────\n",
      "2: ──RX(0.38)──RY(3.14)──RZ(3.14)────╰Z─╭●────────────────│───RY(3.14)──RZ(3.14)────╰Z─╭●─────────\n",
      "3: ──RX(0.38)──RY(3.14)──RZ(3.14)───────╰Z─╭●─────────────│───RY(3.14)──RZ(3.14)───────╰Z─╭●──────\n",
      "4: ──RX(0.38)──RY(3.14)──RZ(3.14)──────────╰Z─╭●──────────│───RY(3.14)──RZ(3.14)──────────╰Z─╭●───\n",
      "5: ──RX(0.50)──RY(3.14)──RZ(3.14)─────────────╰Z─╭●───────│───RY(3.14)──RZ(3.14)─────────────╰Z─╭●\n",
      "6: ──RX(0.75)──RY(3.14)──RZ(3.14)────────────────╰Z─╭●────│───RY(3.14)──RZ(3.14)────────────────╰Z\n",
      "7: ──RX(0.88)──RY(3.14)──RZ(3.14)───────────────────╰Z─╭●─│───RY(3.14)──RZ(3.14)──────────────────\n",
      "8: ──RX(0.25)──RY(3.14)──RZ(3.14)──────────────────────╰Z─╰●──RY(3.14)──RZ(3.14)──────────────────\n",
      "\n",
      "────────╭Z──RY(3.14)──RZ(3.14)─╭●──────────────────────╭Z─┤  State\n",
      "────────│───RY(3.14)──RZ(3.14)─╰Z─╭●───────────────────│──┤  State\n",
      "────────│───RY(3.14)──RZ(3.14)────╰Z─╭●────────────────│──┤  State\n",
      "────────│───RY(3.14)──RZ(3.14)───────╰Z─╭●─────────────│──┤  State\n",
      "────────│───RY(3.14)──RZ(3.14)──────────╰Z─╭●──────────│──┤  State\n",
      "────────│───RY(3.14)──RZ(3.14)─────────────╰Z─╭●───────│──┤  State\n",
      "──╭●────│───RY(3.14)──RZ(3.14)────────────────╰Z─╭●────│──┤  State\n",
      "──╰Z─╭●─│───RY(3.14)──RZ(3.14)───────────────────╰Z─╭●─│──┤  State\n",
      "─────╰Z─╰●──RY(3.14)──RZ(3.14)──────────────────────╰Z─╰●─┤  State\n"
     ]
    }
   ],
   "source": [
    "# list architecture\n",
    "weights = np.repeat(np.pi, 2*int(np.sqrt(n_nodes))*n_nodes)\n",
    "weights = np.reshape(weights, (2*int(np.sqrt(n_nodes)), n_nodes))\n",
    "\n",
    "a = circuit(weights, feature_vec_1)[0]\n",
    "b = circuit(weights, feature_vec_2)[0]\n",
    "\n",
    "## dot product equals 1 if equal vectors, dot product equals 0 if orthogonal vectors\n",
    "fidelity = np.dot(a,b)\n",
    "fidelity\n",
    "print(qml.draw(circuit, expansion_strategy=\"device\")(weights, feature_vec_1))\n",
    "#print(qml.draw(inverse_circuit, expansion_strategy=\"device\")(weights, feature_vec_1, feature_vec_2))"
   ]
  },
  {
   "cell_type": "code",
   "execution_count": 8,
   "metadata": {},
   "outputs": [
    {
     "name": "stdout",
     "output_type": "stream",
     "text": [
      "(1.0827964127856231e-13-6.03988734238021e-28j)\n"
     ]
    }
   ],
   "source": [
    "print(fidelity)"
   ]
  },
  {
   "cell_type": "code",
   "execution_count": 9,
   "metadata": {},
   "outputs": [],
   "source": [
    "def costs(weights):\n",
    "    fidelity = np.dot(circuit(weights, feature_vec_1)[0], circuit(weights, feature_vec_2)[0])\n",
    "    return 1 - np.sqrt(np.real(fidelity)**2+np.imag(fidelity)**2) **2"
   ]
  },
  {
   "cell_type": "code",
   "execution_count": 10,
   "metadata": {},
   "outputs": [
    {
     "name": "stdout",
     "output_type": "stream",
     "text": [
      "Step = 0,  Cost function = 0.68380455 \n",
      "Step = 10,  Cost function = 0.68364750 \n",
      "Step = 20,  Cost function = 0.68352364 \n",
      "Step = 30,  Cost function = 0.68342570 \n",
      "Step = 40,  Cost function = 0.68334803 \n",
      "Step = 50,  Cost function = 0.68328622 \n",
      "Step = 60,  Cost function = 0.68323682 \n",
      "Step = 70,  Cost function = 0.68319716 \n",
      "Step = 80,  Cost function = 0.68316514 \n",
      "Step = 90,  Cost function = 0.68313913 \n",
      "Step = 100,  Cost function = 0.68311785 \n",
      "Step = 110,  Cost function = 0.68310031 \n",
      "Step = 120,  Cost function = 0.68308573 \n",
      "Step = 130,  Cost function = 0.68307350 \n",
      "Step = 140,  Cost function = 0.68306313 \n",
      "Step = 150,  Cost function = 0.68305425 \n",
      "Step = 160,  Cost function = 0.68304658 \n",
      "Step = 170,  Cost function = 0.68303986 \n",
      "Step = 180,  Cost function = 0.68303393 \n",
      "Step = 190,  Cost function = 0.68302863 \n",
      "Step = 200,  Cost function = 0.68302386 \n",
      "Step = 210,  Cost function = 0.68301952 \n",
      "Step = 220,  Cost function = 0.68301554 \n",
      "Step = 230,  Cost function = 0.68301187 \n",
      "Step = 240,  Cost function = 0.68300845 \n",
      "Step = 250,  Cost function = 0.68300525 \n",
      "Step = 260,  Cost function = 0.68300224 \n",
      "Step = 270,  Cost function = 0.68299941 \n",
      "Step = 280,  Cost function = 0.68299672 \n",
      "Step = 290,  Cost function = 0.68299416 \n",
      "Step = 300,  Cost function = 0.68299172 \n",
      "Step = 310,  Cost function = 0.68298939 \n",
      "Step = 320,  Cost function = 0.68298715 \n",
      "Step = 330,  Cost function = 0.68298501 \n",
      "Step = 340,  Cost function = 0.68298296 \n",
      "Step = 350,  Cost function = 0.68298098 \n",
      "Step = 360,  Cost function = 0.68297908 \n",
      "Step = 370,  Cost function = 0.68297725 \n",
      "Step = 380,  Cost function = 0.68297548 \n",
      "Step = 390,  Cost function = 0.68297378 \n",
      "Step = 400,  Cost function = 0.68297214 \n",
      "Step = 410,  Cost function = 0.68297055 \n",
      "Step = 420,  Cost function = 0.68296902 \n",
      "Step = 430,  Cost function = 0.68296754 \n",
      "Step = 440,  Cost function = 0.68296611 \n",
      "Step = 450,  Cost function = 0.68296473 \n",
      "Step = 460,  Cost function = 0.68296340 \n",
      "Step = 470,  Cost function = 0.68296211 \n",
      "Step = 480,  Cost function = 0.68296086 \n",
      "Step = 490,  Cost function = 0.68295966 \n",
      "Step = 500,  Cost function = 0.68295849 \n",
      "Step = 510,  Cost function = 0.68295737 \n",
      "Step = 520,  Cost function = 0.68295628 \n",
      "Step = 530,  Cost function = 0.68295522 \n",
      "Step = 540,  Cost function = 0.68295420 \n",
      "Step = 550,  Cost function = 0.68295322 \n",
      "Step = 560,  Cost function = 0.68295226 \n",
      "Step = 570,  Cost function = 0.68295134 \n",
      "Step = 580,  Cost function = 0.68295044 \n",
      "Step = 590,  Cost function = 0.68294958 \n",
      "Step = 600,  Cost function = 0.68294874 \n",
      "Step = 610,  Cost function = 0.68294793 \n",
      "Step = 620,  Cost function = 0.68294714 \n",
      "Step = 630,  Cost function = 0.68294638 \n",
      "Step = 640,  Cost function = 0.68294565 \n",
      "Step = 650,  Cost function = 0.68294493 \n",
      "Step = 660,  Cost function = 0.68294424 \n",
      "Step = 670,  Cost function = 0.68294357 \n",
      "Step = 680,  Cost function = 0.68294293 \n",
      "Step = 690,  Cost function = 0.68294230 \n",
      "Step = 700,  Cost function = 0.68294169 \n",
      "Step = 710,  Cost function = 0.68294110 \n",
      "Step = 720,  Cost function = 0.68294053 \n",
      "Step = 730,  Cost function = 0.68293998 \n",
      "Step = 740,  Cost function = 0.68293944 \n",
      "Step = 750,  Cost function = 0.68293893 \n",
      "Step = 760,  Cost function = 0.68293842 \n",
      "Step = 770,  Cost function = 0.68293794 \n",
      "Step = 780,  Cost function = 0.68293746 \n",
      "Step = 790,  Cost function = 0.68293700 \n",
      "Step = 800,  Cost function = 0.68293656 \n",
      "Step = 810,  Cost function = 0.68293613 \n",
      "Step = 820,  Cost function = 0.68293571 \n",
      "Step = 830,  Cost function = 0.68293531 \n",
      "Step = 840,  Cost function = 0.68293491 \n",
      "Step = 850,  Cost function = 0.68293453 \n",
      "Step = 860,  Cost function = 0.68293416 \n",
      "Step = 870,  Cost function = 0.68293380 \n",
      "Step = 880,  Cost function = 0.68293346 \n",
      "Step = 890,  Cost function = 0.68293312 \n",
      "Step = 900,  Cost function = 0.68293279 \n",
      "Step = 910,  Cost function = 0.68293247 \n",
      "Step = 920,  Cost function = 0.68293217 \n",
      "Step = 930,  Cost function = 0.68293187 \n",
      "Step = 940,  Cost function = 0.68293158 \n",
      "Step = 950,  Cost function = 0.68293129 \n",
      "Step = 960,  Cost function = 0.68293102 \n",
      "Step = 970,  Cost function = 0.68293075 \n",
      "Step = 980,  Cost function = 0.68293049 \n",
      "Step = 990,  Cost function = 0.68293024 \n"
     ]
    }
   ],
   "source": [
    "np.random.seed(0)\n",
    "weights_init = 0.01 * np.random.randn(2*int(np.sqrt(n_nodes)), n_nodes, requires_grad=True)\n",
    "angle = [weights_init]\n",
    "\n",
    "cost = [costs(weights_init)] \n",
    "opt = qml.GradientDescentOptimizer()\n",
    "max_iterations = 1000\n",
    "conv_tol = 1e-06\n",
    "\n",
    "# ### circuit results in tensor array size 2^9, but only need value at position 0 \n",
    "for n in range(max_iterations):\n",
    "    weights_init, prev_cost = opt.step_and_cost(costs, weights_init)\n",
    "    cost.append(prev_cost)\n",
    "    angle.append(weights_init)\n",
    "\n",
    "    conv = np.abs(cost[-1] - prev_cost)\n",
    "    if n % 10 == 0:\n",
    "        print(f\"Step = {n},  Cost function = {cost[-1]:.8f} \")\n",
    "#     # if conv <= conv_tol:\n",
    "#     #     break\n",
    "#qml.grad(costs)(weights_init)\n"
   ]
  },
  {
   "cell_type": "code",
   "execution_count": 11,
   "metadata": {},
   "outputs": [
    {
     "data": {
      "text/plain": [
       "Text(0, 0.5, 'costs')"
      ]
     },
     "execution_count": 11,
     "metadata": {},
     "output_type": "execute_result"
    },
    {
     "data": {
      "image/png": "[encoded data removed]",
      "text/plain": [
       "<Figure size 432x288 with 1 Axes>"
      ]
     },
     "metadata": {
      "needs_background": "light"
     },
     "output_type": "display_data"
    }
   ],
   "source": [
    "import matplotlib.pyplot as plt \n",
    "# plt.plot(cost[1:1000])\n",
    "# plt.show()\n",
    "\n",
    "t = np.arange(1000)\n",
    "plt.figure()\n",
    "\n",
    "plt.plot(cost[1:1000], label='v1 * v2')\n",
    "plt.legend(loc = 'upper right')\n",
    "plt.title('Quantum Graph Kernel')\n",
    "ax = plt.gca()\n",
    "#ax.set_ylim([0.0, 1])\n",
    "#ax.fill_between(t, x, y = 0.5)\n",
    "plt.xlabel(\"Step\")\n",
    "plt.ylabel(\"costs\")\n",
    "\n",
    "#plt.savefig('cost.svg', format='svg', dpi = 1200)"
   ]
  },
  {
   "cell_type": "code",
   "execution_count": 12,
   "metadata": {},
   "outputs": [],
   "source": [
    "def sandwich_layer(qubits, weights):\n",
    "    for j in range(int(qubits)):\n",
    "        qml.RY(weights[0][j], wires=j)\n",
    "        qml.RZ(weights[1][j], wires=j)\n",
    "    for k in range(qubits):\n",
    "        qml.CZ(wires=[k, (k+1) % qubits])\n",
    "\n",
    "def inverse_sandwich_layer(qubits, weights):\n",
    "    for i in range(qubits):\n",
    "        qml.CZ(wires= [qubits-(i+1), (qubits-i) % qubits])\n",
    "    for j in range(qubits):\n",
    "        qml.RZ(weights[1][j], wires=j)\n",
    "        qml.RY(weights[0][j], wires=j)"
   ]
  },
  {
   "cell_type": "code",
   "execution_count": 13,
   "metadata": {},
   "outputs": [],
   "source": [
    "## sandwich architecture circuit\n",
    "wires = range(int(np.sqrt(n_nodes)))\n",
    "dev = qml.device('default.qubit', wires)\n",
    "\n",
    "@qml.qnode(dev)\n",
    "def sandwich_circuit(weights, val):\n",
    "    qubits = int(np.sqrt(n_nodes))\n",
    "    for i in range(qubits):\n",
    "        qml.AngleEmbedding(val[i*qubits:(i*qubits)+qubits], wires)\n",
    "        sandwich_layer(qubits, weights[i:i+2])\n",
    "\n",
    "    return qml.state()\n",
    "\n",
    "@qml.qnode(dev)\n",
    "def inverse_sandwich_circuit(weights, feature_vec1, feature_vec2):\n",
    "    val1 = feature_vec1\n",
    "    val2 = feature_vec2\n",
    "    \n",
    "    qubits = int(np.sqrt(n_nodes))\n",
    "    \n",
    "    for i in range(qubits):\n",
    "        qml.AngleEmbedding(val1[i*qubits:(i*qubits)+qubits], wires)\n",
    "        sandwich_layer(qubits, weights[i:i+2])\n",
    "    inverse_weights = weights[::-1]\n",
    "    for i in range(qubits):\n",
    "        inverse_sandwich_layer(qubits, inverse_weights[i:i+2])\n",
    "        qml.AngleEmbedding(val2[(qubits-i-1)*qubits:((qubits-i-1)*qubits)+qubits], wires)\n",
    "\n",
    "    return qml.state()\n",
    "    #return qml.expval(qml.PauliZ(wires=[0])), qml.expval(qml.PauliZ(wires=[1]))\n",
    "\n"
   ]
  },
  {
   "cell_type": "code",
   "execution_count": 14,
   "metadata": {},
   "outputs": [
    {
     "name": "stdout",
     "output_type": "stream",
     "text": [
      "0: ──RX(0.12)──RY(3.14)──RZ(3.14)─╭●────╭Z──RX(0.38)──RY(3.14)──RZ(3.14)─╭●────╭Z──RX(0.75)\n",
      "1: ──RX(0.38)──RY(3.14)──RZ(3.14)─╰Z─╭●─│───RX(0.38)──RY(3.14)──RZ(3.14)─╰Z─╭●─│───RX(0.88)\n",
      "2: ──RX(0.38)──RY(3.14)──RZ(3.14)────╰Z─╰●──RX(0.50)──RY(3.14)──RZ(3.14)────╰Z─╰●──RX(0.25)\n",
      "\n",
      "───RY(3.14)──RZ(3.14)─╭●────╭Z─╭Z────╭●─────────RZ(3.14)──RY(3.14)──RX(0.25)─╭Z────╭●───────\n",
      "───RY(3.14)──RZ(3.14)─╰Z─╭●─│──│──╭●─╰Z─────────RZ(3.14)──RY(3.14)──RX(0.38)─│──╭●─╰Z───────\n",
      "───RY(3.14)──RZ(3.14)────╰Z─╰●─╰●─╰Z──RZ(3.14)──RY(3.14)──RX(0.25)───────────╰●─╰Z──RZ(3.14)\n",
      "\n",
      "───RZ(3.14)──RY(3.14)──RX(0.38)─╭Z────╭●─────────RZ(3.14)──RY(3.14)──RX(0.12)─┤  State\n",
      "───RZ(3.14)──RY(3.14)──RX(0.88)─│──╭●─╰Z─────────RZ(3.14)──RY(3.14)──RX(0.38)─┤  State\n",
      "───RY(3.14)──RX(0.62)───────────╰●─╰Z──RZ(3.14)──RY(3.14)──RX(0.75)───────────┤  State\n"
     ]
    }
   ],
   "source": [
    "print(qml.draw(inverse_sandwich_circuit, expansion_strategy='device')(weights, feature_vec_1, feature_vec_2))"
   ]
  },
  {
   "cell_type": "code",
   "execution_count": 15,
   "metadata": {},
   "outputs": [
    {
     "name": "stdout",
     "output_type": "stream",
     "text": [
      "0: ──RX(0.12)──RY(3.14)──RZ(3.14)─╭●────╭Z──RX(0.38)──RY(3.14)──RZ(3.14)─╭●────╭Z──RX(0.75)\n",
      "1: ──RX(0.38)──RY(3.14)──RZ(3.14)─╰Z─╭●─│───RX(0.38)──RY(3.14)──RZ(3.14)─╰Z─╭●─│───RX(0.88)\n",
      "2: ──RX(0.38)──RY(3.14)──RZ(3.14)────╰Z─╰●──RX(0.50)──RY(3.14)──RZ(3.14)────╰Z─╰●──RX(0.25)\n",
      "\n",
      "───RY(3.14)──RZ(3.14)─╭●────╭Z─╭Z────╭●─────────RZ(3.14)──RY(3.14)──RX(0.25)─╭Z────╭●───────\n",
      "───RY(3.14)──RZ(3.14)─╰Z─╭●─│──│──╭●─╰Z─────────RZ(3.14)──RY(3.14)──RX(0.38)─│──╭●─╰Z───────\n",
      "───RY(3.14)──RZ(3.14)────╰Z─╰●─╰●─╰Z──RZ(3.14)──RY(3.14)──RX(0.25)───────────╰●─╰Z──RZ(3.14)\n",
      "\n",
      "───RZ(3.14)──RY(3.14)──RX(0.38)─╭Z────╭●─────────RZ(3.14)──RY(3.14)──RX(0.12)─┤  State\n",
      "───RZ(3.14)──RY(3.14)──RX(0.88)─│──╭●─╰Z─────────RZ(3.14)──RY(3.14)──RX(0.38)─┤  State\n",
      "───RY(3.14)──RX(0.62)───────────╰●─╰Z──RZ(3.14)──RY(3.14)──RX(0.75)───────────┤  State\n"
     ]
    }
   ],
   "source": [
    "# sandwich architecture\n",
    "weights = np.repeat(np.pi, 18)\n",
    "weights = np.reshape(weights, (6, 3))\n",
    "\n",
    "a = sandwich_circuit(weights, feature_vec_1)[0]\n",
    "b = sandwich_circuit(weights, feature_vec_2)[0]\n",
    "\n",
    "## dot product equals 1 if equal vectors, dot product equals 0 if orthogonal vectors\n",
    "fidelity = np.dot(a,b)\n",
    "#print(qml.draw(sandwich_circuit, expansion_strategy=\"device\")(weights, feature_vec_1))\n",
    "print(qml.draw(inverse_sandwich_circuit, expansion_strategy='device')(weights, feature_vec_1, feature_vec_2))"
   ]
  },
  {
   "cell_type": "code",
   "execution_count": 16,
   "metadata": {},
   "outputs": [],
   "source": [
    "def sandwich_costs(weights):\n",
    "    fidelity = np.dot(sandwich_circuit(weights, feature_vec_1)[0], sandwich_circuit(weights, feature_vec_2)[0])\n",
    "    return 1 - np.sqrt(np.real(fidelity)**2+np.imag(fidelity)**2) **2"
   ]
  },
  {
   "cell_type": "code",
   "execution_count": 19,
   "metadata": {},
   "outputs": [
    {
     "name": "stdout",
     "output_type": "stream",
     "text": [
      "Step = 0,  Cost function = 0.97512641 \n",
      "Step = 10,  Cost function = 0.97512531 \n",
      "Step = 20,  Cost function = 0.97512420 \n",
      "Step = 30,  Cost function = 0.97512309 \n",
      "Step = 40,  Cost function = 0.97512197 \n",
      "Step = 50,  Cost function = 0.97512084 \n",
      "Step = 60,  Cost function = 0.97511970 \n",
      "Step = 70,  Cost function = 0.97511856 \n",
      "Step = 80,  Cost function = 0.97511741 \n",
      "Step = 90,  Cost function = 0.97511625 \n",
      "Step = 100,  Cost function = 0.97511508 \n",
      "Step = 110,  Cost function = 0.97511389 \n",
      "Step = 120,  Cost function = 0.97511270 \n",
      "Step = 130,  Cost function = 0.97511150 \n",
      "Step = 140,  Cost function = 0.97511028 \n",
      "Step = 150,  Cost function = 0.97510905 \n",
      "Step = 160,  Cost function = 0.97510781 \n",
      "Step = 170,  Cost function = 0.97510656 \n",
      "Step = 180,  Cost function = 0.97510529 \n",
      "Step = 190,  Cost function = 0.97510401 \n",
      "Step = 200,  Cost function = 0.97510271 \n",
      "Step = 210,  Cost function = 0.97510139 \n",
      "Step = 220,  Cost function = 0.97510006 \n",
      "Step = 230,  Cost function = 0.97509871 \n",
      "Step = 240,  Cost function = 0.97509735 \n",
      "Step = 250,  Cost function = 0.97509596 \n",
      "Step = 260,  Cost function = 0.97509456 \n",
      "Step = 270,  Cost function = 0.97509314 \n",
      "Step = 280,  Cost function = 0.97509169 \n",
      "Step = 290,  Cost function = 0.97509023 \n",
      "Step = 300,  Cost function = 0.97508874 \n",
      "Step = 310,  Cost function = 0.97508723 \n",
      "Step = 320,  Cost function = 0.97508570 \n",
      "Step = 330,  Cost function = 0.97508415 \n",
      "Step = 340,  Cost function = 0.97508257 \n",
      "Step = 350,  Cost function = 0.97508096 \n",
      "Step = 360,  Cost function = 0.97507933 \n",
      "Step = 370,  Cost function = 0.97507767 \n",
      "Step = 380,  Cost function = 0.97507598 \n",
      "Step = 390,  Cost function = 0.97507426 \n",
      "Step = 400,  Cost function = 0.97507252 \n",
      "Step = 410,  Cost function = 0.97507074 \n",
      "Step = 420,  Cost function = 0.97506893 \n",
      "Step = 430,  Cost function = 0.97506709 \n",
      "Step = 440,  Cost function = 0.97506522 \n",
      "Step = 450,  Cost function = 0.97506331 \n",
      "Step = 460,  Cost function = 0.97506137 \n",
      "Step = 470,  Cost function = 0.97505939 \n",
      "Step = 480,  Cost function = 0.97505738 \n",
      "Step = 490,  Cost function = 0.97505533 \n",
      "Step = 500,  Cost function = 0.97505323 \n",
      "Step = 510,  Cost function = 0.97505110 \n",
      "Step = 520,  Cost function = 0.97504893 \n",
      "Step = 530,  Cost function = 0.97504671 \n",
      "Step = 540,  Cost function = 0.97504445 \n",
      "Step = 550,  Cost function = 0.97504215 \n",
      "Step = 560,  Cost function = 0.97503980 \n",
      "Step = 570,  Cost function = 0.97503740 \n",
      "Step = 580,  Cost function = 0.97503496 \n",
      "Step = 590,  Cost function = 0.97503246 \n",
      "Step = 600,  Cost function = 0.97502992 \n",
      "Step = 610,  Cost function = 0.97502732 \n",
      "Step = 620,  Cost function = 0.97502467 \n",
      "Step = 630,  Cost function = 0.97502197 \n",
      "Step = 640,  Cost function = 0.97501920 \n",
      "Step = 650,  Cost function = 0.97501638 \n",
      "Step = 660,  Cost function = 0.97501351 \n",
      "Step = 670,  Cost function = 0.97501057 \n",
      "Step = 680,  Cost function = 0.97500757 \n",
      "Step = 690,  Cost function = 0.97500450 \n",
      "Step = 700,  Cost function = 0.97500137 \n",
      "Step = 710,  Cost function = 0.97499817 \n",
      "Step = 720,  Cost function = 0.97499491 \n",
      "Step = 730,  Cost function = 0.97499157 \n",
      "Step = 740,  Cost function = 0.97498816 \n",
      "Step = 750,  Cost function = 0.97498468 \n",
      "Step = 760,  Cost function = 0.97498112 \n",
      "Step = 770,  Cost function = 0.97497748 \n",
      "Step = 780,  Cost function = 0.97497377 \n",
      "Step = 790,  Cost function = 0.97496997 \n",
      "Step = 800,  Cost function = 0.97496609 \n",
      "Step = 810,  Cost function = 0.97496212 \n",
      "Step = 820,  Cost function = 0.97495807 \n",
      "Step = 830,  Cost function = 0.97495393 \n",
      "Step = 840,  Cost function = 0.97494969 \n",
      "Step = 850,  Cost function = 0.97494536 \n",
      "Step = 860,  Cost function = 0.97494093 \n",
      "Step = 870,  Cost function = 0.97493640 \n",
      "Step = 880,  Cost function = 0.97493178 \n",
      "Step = 890,  Cost function = 0.97492704 \n",
      "Step = 900,  Cost function = 0.97492220 \n",
      "Step = 910,  Cost function = 0.97491726 \n",
      "Step = 920,  Cost function = 0.97491220 \n",
      "Step = 930,  Cost function = 0.97490702 \n",
      "Step = 940,  Cost function = 0.97490173 \n",
      "Step = 950,  Cost function = 0.97489632 \n",
      "Step = 960,  Cost function = 0.97489078 \n",
      "Step = 970,  Cost function = 0.97488512 \n",
      "Step = 980,  Cost function = 0.97487933 \n",
      "Step = 990,  Cost function = 0.97487341 \n"
     ]
    }
   ],
   "source": [
    "np.random.seed(0)\n",
    "weights_init = 0.01 * np.random.randn(2*int(np.sqrt(n_nodes)), int(np.sqrt(n_nodes)), requires_grad=True)\n",
    "angle = [weights_init]\n",
    "\n",
    "cost = [sandwich_costs(weights_init)]\n",
    "opt = qml.GradientDescentOptimizer()\n",
    "max_iterations = 1000\n",
    "conv_tol = 1e-06\n",
    "\n",
    "\n",
    "### circuit results in tensor array size 2^9, but only need value at position 0 \n",
    "for n in range(max_iterations):\n",
    "    weights_init, prev_cost = opt.step_and_cost(sandwich_costs, weights_init)\n",
    "    cost.append(prev_cost)\n",
    "    angle.append(weights_init)\n",
    "\n",
    "    conv = np.abs(cost[-1] - prev_cost)\n",
    "    if n % 10 == 0:\n",
    "        print(f\"Step = {n},  Cost function = {cost[-1]:.8f} \")\n",
    "    #if conv <= conv_tol:\n",
    "    #    break"
   ]
  },
  {
   "cell_type": "code",
   "execution_count": null,
   "metadata": {},
   "outputs": [
    {
     "data": {
      "text/plain": [
       "Text(0, 0.5, 'costs')"
      ]
     },
     "execution_count": 19,
     "metadata": {},
     "output_type": "execute_result"
    },
    {
     "data": {
      "image/png": "[encoded data removed]",
      "text/plain": [
       "<Figure size 432x288 with 1 Axes>"
      ]
     },
     "metadata": {
      "needs_background": "light"
     },
     "output_type": "display_data"
    }
   ],
   "source": [
    "t = np.arange(1000)\n",
    "plt.figure()\n",
    "\n",
    "plt.plot(cost[1:1000], label='v1 * v2')\n",
    "plt.legend(loc = 'upper right')\n",
    "plt.title('Quantum Graph Kernel')\n",
    "ax = plt.gca()\n",
    "#ax.set_ylim([0#0, 1])\n",
    "\n",
    "plt.xlabel(\"Step\")\n",
    "plt.ylabel(\"costs\")\n",
    "\n",
    "#plt.savefig('ApproxRatioRandomTest01.svg', format='svg', dpi = 1200)"
   ]
  }
 ],
 "metadata": {
  "kernelspec": {
   "display_name": "Python 3",
   "language": "python",
   "name": "python3"
  },
  "language_info": {
   "codemirror_mode": {
    "name": "ipython",
    "version": 3
   },
   "file_extension": ".py",
   "mimetype": "text/x-python",
   "name": "python",
   "nbconvert_exporter": "python",
   "pygments_lexer": "ipython3",
   "version": "3.10.4"
  }
 },
 "nbformat": 4,
 "nbformat_minor": 2
}
